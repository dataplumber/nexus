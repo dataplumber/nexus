{
 "cells": [
  {
   "cell_type": "markdown",
   "metadata": {},
   "source": [
    "# Get Solr cluster status"
   ]
  },
  {
   "cell_type": "code",
   "execution_count": 63,
   "metadata": {},
   "outputs": [
    {
     "name": "stdout",
     "output_type": "stream",
     "text": [
      "{\n",
      "  \"cluster\": {\n",
      "    \"collections\": {\n",
      "      \"nexustiles\": {\n",
      "        \"replicationFactor\": \"1\", \n",
      "        \"configName\": \"nexustiles\", \n",
      "        \"maxShardsPerNode\": \"1\", \n",
      "        \"shards\": {\n",
      "          \"shard2\": {\n",
      "            \"range\": \"d5550000-2aa9ffff\", \n",
      "            \"state\": \"active\", \n",
      "            \"replicas\": {\n",
      "              \"core_node3\": {\n",
      "                \"core\": \"nexustiles_shard2_replica1\", \n",
      "                \"state\": \"active\", \n",
      "                \"base_url\": \"http://172.20.0.12:8983/solr\", \n",
      "                \"leader\": \"true\", \n",
      "                \"node_name\": \"172.20.0.12:8983_solr\"\n",
      "              }\n",
      "            }\n",
      "          }, \n",
      "          \"shard3\": {\n",
      "            \"range\": \"2aaa0000-7fffffff\", \n",
      "            \"state\": \"active\", \n",
      "            \"replicas\": {\n",
      "              \"core_node2\": {\n",
      "                \"core\": \"nexustiles_shard3_replica1\", \n",
      "                \"state\": \"active\", \n",
      "                \"base_url\": \"http://172.20.0.13:8983/solr\", \n",
      "                \"leader\": \"true\", \n",
      "                \"node_name\": \"172.20.0.13:8983_solr\"\n",
      "              }\n",
      "            }\n",
      "          }, \n",
      "          \"shard1\": {\n",
      "            \"range\": \"80000000-d554ffff\", \n",
      "            \"state\": \"active\", \n",
      "            \"replicas\": {\n",
      "              \"core_node1\": {\n",
      "                \"core\": \"nexustiles_shard1_replica1\", \n",
      "                \"state\": \"active\", \n",
      "                \"base_url\": \"http://172.20.0.5:8983/solr\", \n",
      "                \"leader\": \"true\", \n",
      "                \"node_name\": \"172.20.0.5:8983_solr\"\n",
      "              }\n",
      "            }\n",
      "          }\n",
      "        }, \n",
      "        \"autoAddReplicas\": \"false\", \n",
      "        \"router\": {\n",
      "          \"name\": \"compositeId\"\n",
      "        }, \n",
      "        \"znodeVersion\": 37\n",
      "      }\n",
      "    }, \n",
      "    \"live_nodes\": [\n",
      "      \"172.20.0.5:8983_solr\", \n",
      "      \"172.20.0.13:8983_solr\", \n",
      "      \"172.20.0.12:8983_solr\"\n",
      "    ]\n",
      "  }, \n",
      "  \"responseHeader\": {\n",
      "    \"status\": 0, \n",
      "    \"QTime\": 23\n",
      "  }\n",
      "}\n"
     ]
    }
   ],
   "source": [
    "import requests\n",
    "import json\n",
    "\n",
    "response = requests.get('http://solr1:8983/solr/admin/collections?action=clusterstatus&wt=json')\n",
    "print(json.dumps(response.json(), indent=2))"
   ]
  },
  {
   "cell_type": "markdown",
   "metadata": {},
   "source": [
    "# Get number of documents in Solr"
   ]
  },
  {
   "cell_type": "code",
   "execution_count": 64,
   "metadata": {},
   "outputs": [
    {
     "name": "stdout",
     "output_type": "stream",
     "text": [
      "Number of documents found: 0\n"
     ]
    }
   ],
   "source": [
    "import requests\n",
    "\n",
    "response = requests.get('http://solr1:8983/solr/nexustiles/select?q=*:*&wt=json&rows=0')\n",
    "data = response.json()\n",
    "print(\"Number of documents found: %d\" % data['response']['numFound'])"
   ]
  },
  {
   "cell_type": "markdown",
   "metadata": {},
   "source": [
    "# Get Cassandra cluster status"
   ]
  },
  {
   "cell_type": "code",
   "execution_count": 43,
   "metadata": {},
   "outputs": [
    {
     "name": "stdout",
     "output_type": "stream",
     "text": [
      "Connected to Cassandra cluster successfully.\n",
      "Number of rows found: 0\n"
     ]
    }
   ],
   "source": [
    "from cassandra.cluster import Cluster\n",
    "\n",
    "cluster = Cluster(['cassandra1', 'cassandra2', 'cassandra3'])\n",
    "session = cluster.connect(keyspace=\"nexustiles\")\n",
    "print(\"Connected to Cassandra cluster successfully.\")\n",
    "results = session.execute(\"select count(*) from sea_surface_temp\")\n",
    "print(\"Number of rows found: %d\" % results[0].count)\n",
    "cluster.shutdown()"
   ]
  },
  {
   "cell_type": "markdown",
   "metadata": {},
   "source": [
    "# Get Mesos cluster status"
   ]
  },
  {
   "cell_type": "code",
   "execution_count": null,
   "metadata": {
    "collapsed": true
   },
   "outputs": [],
   "source": [
    "import requests\n",
    "import json\n",
    "\n",
    "response = requests.get('http://mesos-master:5050/state.json')\n",
    "print(json.dumps(response.json()['slaves'], indent=2))"
   ]
  },
  {
   "cell_type": "markdown",
   "metadata": {
    "collapsed": true
   },
   "source": [
    "# Get Spark cluster job status"
   ]
  },
  {
   "cell_type": "code",
   "execution_count": null,
   "metadata": {
    "collapsed": true
   },
   "outputs": [],
   "source": [
    "import requests\n",
    "\n",
    "response = requests.get('http://nexus-webapp:4040/api/v1/applications')\n",
    "appId = response.json()[0]['id']\n",
    "response = requests.get(\"http://nexus-webapp:4040/api/v1/applications/%s/jobs\" % appId)\n",
    "for job in response.json():\n",
    "    print(job['name'])\n",
    "    print('\\t' + job['status'])"
   ]
  },
  {
   "cell_type": "markdown",
   "metadata": {},
   "source": [
    "# Get Nexus dataset list"
   ]
  },
  {
   "cell_type": "code",
   "execution_count": null,
   "metadata": {
    "collapsed": true
   },
   "outputs": [],
   "source": [
    "import requests\n",
    "from datetime import datetime\n",
    "\n",
    "response = requests.get('http://nexus-webapp:8083/list')\n",
    "data = response.json()\n",
    "for dataset in data:\n",
    "    print(dataset['shortName'])\n",
    "    print('\\t' + datetime.utcfromtimestamp(dataset['start']/1000).strftime('%Y-%m-%dT%H:%M:%SZ'))\n",
    "    print('\\t' + datetime.utcfromtimestamp(dataset['end']/1000).strftime('%Y-%m-%dT%H:%M:%SZ'))"
   ]
  },
  {
   "cell_type": "markdown",
   "metadata": {},
   "source": [
    "# Get listing of granules and tile count"
   ]
  },
  {
   "cell_type": "code",
   "execution_count": null,
   "metadata": {
    "collapsed": true
   },
   "outputs": [],
   "source": [
    "import requests\n",
    "\n",
    "dataset = 'AVHRR_OI_L4_GHRSST_NCEI'\n",
    "year = 2016\n",
    "\n",
    "response = requests.get(\"http://solr1:8983/solr/nexustiles/query?q=granule_s:%d*&rows=0&fq=dataset_s:%s&facet.field=granule_s&facet=true&facet.mincount=1&facet.limit=-1&facet.sort=index\" % (year, dataset))\n",
    "data = response.json()\n",
    "for k in data['facet_counts'][\"facet_fields\"]['granule_s']:\n",
    "    print(k)"
   ]
  },
  {
   "cell_type": "markdown",
   "metadata": {},
   "source": [
    "# Get number of granules ingested"
   ]
  },
  {
   "cell_type": "code",
   "execution_count": null,
   "metadata": {
    "collapsed": true
   },
   "outputs": [],
   "source": [
    "import requests\n",
    "\n",
    "dataset = 'AVHRR_OI_L4_GHRSST_NCEI'\n",
    "year = 2016\n",
    "\n",
    "response = requests.get(\"http://solr1:8983/solr/nexustiles/query?q=granule_s:%d*&json.facet={granule_s:'unique(granule_s)'}&rows=0&fq=dataset_s:%s\" % (year, dataset))\n",
    "data = response.json()\n",
    "print(\"Number of granules for %s : %d\" % (dataset, data['facets']['granule_s']))"
   ]
  }
 ],
 "metadata": {
  "kernelspec": {
   "display_name": "Python 3",
   "language": "python",
   "name": "python3"
  },
  "language_info": {
   "codemirror_mode": {
    "name": "ipython",
    "version": 3.0
   },
   "file_extension": ".py",
   "mimetype": "text/x-python",
   "name": "python",
   "nbconvert_exporter": "python",
   "pygments_lexer": "ipython3",
   "version": "3.6.1"
  }
 },
 "nbformat": 4,
 "nbformat_minor": 0
}