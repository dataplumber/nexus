{
 "cells": [
  {
   "attachments": {},
   "cell_type": "markdown",
   "metadata": {},
   "source": [
    "# Introduction\n",
    "\n",
    "In this workshop you will learn how to deploy a NEXUS system using Docker.\n",
    "\n",
    "## EC2\n",
    "\n",
    "Each student or group will be assigned an EC2 instance to use for this workshop. The EC2 instance we will be using is:  \n",
    "> r4.8xlarge  \n",
    "> Memory: 244.0 GB  \n",
    "> vCPUs: 32  \n",
    "> EBS Storage: 500 GB gp2  \n",
    "\n",
    "## SSH\n",
    "\n",
    "You will be using SSH to connect to the Amazon EC2 instance assigned to you. You will need an SSH client on your laptop. All shell commands for this workshop will take place over the SSH connection.\n",
    "\n",
    "__NOTE__: Shell commands you are expected to run will be prefixed with a dollar sign `$`\n",
    "\n",
    "## Docker\n",
    "\n",
    "Docker is already installed on the EC2 instance. You will be asked to interact with the Docker command line client during this workshop.  \n",
    "\n",
    "`docker-compose` is used to coordinate the startup and stopping of the different components of the NEXUS system during this workshop.\n",
    "\n",
    "## System Architecture\n",
    "\n",
    "We are attempting to simulate a cluster deployment on a single machine. By the end of this workshop there will be 21 containers running on your EC2 instance.\n",
    "\n",
    "![EC2 Containers](img/ec2 containers.png)\n",
    "\n",
    "In a production deployment, these containers would most likely be running on different machines and may be sized differently.\n"
   ]
  }
 ],
 "metadata": {
  "kernelspec": {
   "display_name": "Python 3",
   "language": "python",
   "name": "python3"
  },
  "language_info": {
   "codemirror_mode": {
    "name": "ipython",
    "version": 3
   },
   "file_extension": ".py",
   "mimetype": "text/x-python",
   "name": "python",
   "nbconvert_exporter": "python",
   "pygments_lexer": "ipython3",
   "version": "3.6.1"
  }
 },
 "nbformat": 4,
 "nbformat_minor": 2
}
