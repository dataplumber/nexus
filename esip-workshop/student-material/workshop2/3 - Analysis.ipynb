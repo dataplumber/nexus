{
 "cells": [
  {
   "cell_type": "markdown",
   "metadata": {
    "collapsed": true
   },
   "source": [
    "# Starting the Analysis Cluster\n",
    "\n",
    "NEXUS utilizes [Apache Spark](https://spark.apache.org/) running on [Apache Mesos](http://mesos.apache.org/) for its analytical functions. Now that the infrastructure has been started, we can start up the analysis cluster.\n",
    "\n",
    "The analysis cluster consists of and Apache Mesos cluster and the NEXUS webapp [Tornado server](http://www.tornadoweb.org/en/stable/). The Mesos cluster we will be bringing up has one master node and three agent nodes. Apache Spark is already installed and configured on the three agent nodes and will act as Spark executors for the NEXUS analytic functions.\n",
    "\n",
    "## Step 1: Start the Containers\n",
    "\n",
    "We can use `docker-compose` again to start our containers.\n",
    "\n",
    "### TODO\n",
    "\n",
    "1. Navigate to the directory containing the docker-compose.yml file for the analysis cluster\n",
    "```bash\n",
    "$ cd ~/nexus/esip-workshop/docker/analysis\n",
    "```\n",
    "\n",
    "2. Use docker-compose to bring up the containers in the analysis cluster\n",
    "```bash\n",
    "$ docker-compose up -d\n",
    "```"
   ]
  },
  {
   "cell_type": "markdown",
   "metadata": {},
   "source": [
    "## Step 2: Verify the Cluster is Working\n",
    "\n",
    "Now that the cluster has started we can use various commands to ensure that it is operational and monitor its status.\n",
    "\n",
    "### TODO\n",
    "\n",
    "1. List all running docker containers.\n",
    "```bash\n",
    "$ docker ps\n",
    "```\n",
    "The output should look simillar to this:\n",
    "<pre style=\"white-space: pre;\">\n",
    "CONTAINER ID        IMAGE                         COMMAND                  CREATED             STATUS              PORTS                                            NAMES\n",
    "e5589456a78a        nexusjpl/nexus-webapp         \"/tmp/docker-entry...\"   5 seconds ago       Up 5 seconds        0.0.0.0:4040->4040/tcp, 0.0.0.0:8083->8083/tcp   nexus-webapp\n",
    "18e682b9af0e        nexusjpl/spark-mesos-agent    \"/tmp/docker-entry...\"   7 seconds ago       Up 5 seconds                                                         mesos-agent1\n",
    "8951841d1da6        nexusjpl/spark-mesos-agent    \"/tmp/docker-entry...\"   7 seconds ago       Up 6 seconds                                                         mesos-agent3\n",
    "c0240926a4a2        nexusjpl/spark-mesos-agent    \"/tmp/docker-entry...\"   7 seconds ago       Up 6 seconds                                                         mesos-agent2\n",
    "c97ad268833f        nexusjpl/spark-mesos-master   \"/bin/bash -c './b...\"   7 seconds ago       Up 7 seconds        0.0.0.0:5050->5050/tcp                           mesos-master\n",
    "90d370eb3a4e        nexusjpl/jupyter              \"tini -- start-not...\"   2 days ago          Up 2 days           0.0.0.0:8000->8888/tcp                           jupyter\n",
    "cd0f47fe303d        nexusjpl/nexus-solr           \"docker-entrypoint...\"   2 days ago          Up 2 days           8983/tcp                                         solr2\n",
    "8c0f5c8eeb45        nexusjpl/nexus-solr           \"docker-entrypoint...\"   2 days ago          Up 2 days           8983/tcp                                         solr3\n",
    "27e34d14c16e        nexusjpl/nexus-solr           \"docker-entrypoint...\"   2 days ago          Up 2 days           8983/tcp                                         solr1\n",
    "247f807cb5ec        cassandra:2.2.8               \"/docker-entrypoin...\"   2 days ago          Up 2 days           7000-7001/tcp, 7199/tcp, 9042/tcp, 9160/tcp      cassandra3\n",
    "09cc86a27321        zookeeper                     \"/docker-entrypoin...\"   2 days ago          Up 2 days           2181/tcp, 2888/tcp, 3888/tcp                     zk1\n",
    "33e9d9b1b745        zookeeper                     \"/docker-entrypoin...\"   2 days ago          Up 2 days           2181/tcp, 2888/tcp, 3888/tcp                     zk3\n",
    "dd29e4d09124        cassandra:2.2.8               \"/docker-entrypoin...\"   2 days ago          Up 2 days           7000-7001/tcp, 7199/tcp, 9042/tcp, 9160/tcp      cassandra2\n",
    "11e57e0c972f        zookeeper                     \"/docker-entrypoin...\"   2 days ago          Up 2 days           2181/tcp, 2888/tcp, 3888/tcp                     zk2\n",
    "2292803d942d        cassandra:2.2.8               \"/docker-entrypoin...\"   2 days ago          Up 2 days           7000-7001/tcp, 7199/tcp, 9042/tcp, 9160/tcp      cassandra1\n",
    "</pre>\n",
    "\n",
    "2. List the available Mesos slaves by running the cell below."
   ]
  },
  {
   "cell_type": "code",
   "execution_count": null,
   "metadata": {
    "collapsed": true
   },
   "outputs": [],
   "source": [
    "# TODO Run this cell to see the status of the Mesos slaves. You should see 3 slaves connected.\n",
    "\n",
    "import requests\n",
    "import json\n",
    "\n",
    "response = requests.get('http://mesos-master:5050/state.json')\n",
    "print(json.dumps(response.json()['slaves'], indent=2))"
   ]
  },
  {
   "cell_type": "markdown",
   "metadata": {},
   "source": [
    "## Step 3: List available Datasets\n",
    "\n",
    "Now that the cluster is up, we can investigate the datasets available. Use the `nexuscli` module to list available datatsets.\n",
    "\n",
    "### TODO \n",
    "1. Get a list of datasets by using the `nexuscli` module to issue a request to the `nexus-webapp` container that was just started."
   ]
  },
  {
   "cell_type": "code",
   "execution_count": null,
   "metadata": {},
   "outputs": [],
   "source": [
    "import nexuscli\n",
    "\n",
    "nexuscli.set_target(\"http://nexus-webapp:8083\")\n",
    "nexuscli.dataset_list()"
   ]
  },
  {
   "cell_type": "markdown",
   "metadata": {},
   "source": [
    "## Step 4: Run a Time Series\n",
    "\n",
    "Verify the analysis functions are working by running a simple Time Series.\n",
    "\n",
    "### TODO\n",
    "\n",
    "1. Run the cell below to produce a time series plot using the analysis cluster you just started."
   ]
  },
  {
   "cell_type": "code",
   "execution_count": null,
   "metadata": {},
   "outputs": [],
   "source": [
    "# TODO Run this cell to produce a Time Series plot using AVHRR data.\n",
    "%matplotlib inline\n",
    "import matplotlib.pyplot as plt\n",
    "import time\n",
    "import nexuscli\n",
    "from datetime import datetime\n",
    "\n",
    "from shapely.geometry import box\n",
    "\n",
    "bbox = box(-150, 40, -120, 55)\n",
    "datasets = [\"AVHRR_OI_L4_GHRSST_NCEI\"]\n",
    "start_time = datetime(2013, 1, 1)\n",
    "end_time = datetime(2013, 12, 31)\n",
    "\n",
    "start = time.perf_counter()\n",
    "ts, = nexuscli.time_series(datasets, bbox, start_time, end_time, spark=True)\n",
    "print(\"Time Series took {} seconds to generate\".format(time.perf_counter() - start))\n",
    "\n",
    "plt.figure(figsize=(10,5), dpi=100)\n",
    "plt.plot(ts.time, ts.mean, 'b-', marker='|', markersize=2.0, mfc='b')\n",
    "plt.grid(b=True, which='major', color='k', linestyle='-')\n",
    "plt.xlabel(\"Time\")\n",
    "plt.ylabel (\"Sea Surface Temperature (C)\")\n",
    "plt.show()\n"
   ]
  },
  {
   "cell_type": "markdown",
   "metadata": {},
   "source": [
    "##  Step 5: Check the Results of the Spark Job\n",
    "\n",
    "The time series function in the previous cell will run on the Spark cluster. It is possible to use the Spark RESTful interface to determine the status of the Spark job.\n",
    "\n",
    "### TODO\n",
    "\n",
    "1. Run the cell below to see the status of the Spark Job."
   ]
  },
  {
   "cell_type": "code",
   "execution_count": null,
   "metadata": {},
   "outputs": [],
   "source": [
    "# TODO Run this cell. You should see at least one successful Time Series Spark job.\n",
    "import requests\n",
    "\n",
    "response = requests.get('http://nexus-webapp:4040/api/v1/applications')\n",
    "appId = response.json()[0]['id']\n",
    "response = requests.get(\"http://nexus-webapp:4040/api/v1/applications/%s/jobs\" % appId)\n",
    "for job in response.json():\n",
    "    print(job['name'])\n",
    "    print('\\t' + job['status'])"
   ]
  },
  {
   "cell_type": "markdown",
   "metadata": {},
   "source": [
    "## Congratulations!\n",
    "\n",
    "You have successfully started a NEXUS analysis cluster and verified that it is functional. Your EC2 instance is now running both the infrastructure and the analysis cluster:\n",
    "\n",
    "![Infrastructure and Analysis](img/ec2-containers-analysis.png)"
   ]
  }
 ],
 "metadata": {
  "kernelspec": {
   "display_name": "Python 3",
   "language": "python",
   "name": "python3"
  },
  "language_info": {
   "codemirror_mode": {
    "name": "ipython",
    "version": 3
   },
   "file_extension": ".py",
   "mimetype": "text/x-python",
   "name": "python",
   "nbconvert_exporter": "python",
   "pygments_lexer": "ipython3",
   "version": "3.6.1"
  }
 },
 "nbformat": 4,
 "nbformat_minor": 2
}
