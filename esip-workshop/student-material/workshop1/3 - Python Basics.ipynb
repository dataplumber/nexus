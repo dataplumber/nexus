{
 "cells": [
  {
   "cell_type": "markdown",
   "metadata": {
    "collapsed": true
   },
   "source": [
    "# Tutorial Brief\n",
    "This tutorial is an introduction to Python 3. This should give you the set of `pythonic` skills that you will need to proceed with this tutorial series.\n",
    "\n",
    "If you don't have the Jupyter installed, shame on you. No just kidding you can follow this tutorial using an online jupyter service:\n",
    "\n",
    "https://try.jupyter.org/\n",
    "\n",
    "##Cell Input and Output"
   ]
  },
  {
   "cell_type": "code",
   "execution_count": null,
   "metadata": {},
   "outputs": [],
   "source": [
    "1+2"
   ]
  },
  {
   "cell_type": "code",
   "execution_count": null,
   "metadata": {},
   "outputs": [],
   "source": [
    "1+1\n",
    "1+2"
   ]
  },
  {
   "cell_type": "markdown",
   "metadata": {},
   "source": [
    "##The `print` function\n",
    "\n",
    "**Notice:** `print` is a function in Python 3. You should use parentheses around your parameter."
   ]
  },
  {
   "cell_type": "code",
   "execution_count": null,
   "metadata": {},
   "outputs": [],
   "source": [
    "print(1+2)"
   ]
  },
  {
   "cell_type": "markdown",
   "metadata": {},
   "source": [
    "##Variables\n",
    "\n",
    "There are many variable types in Python 3. Here is a list of the most common types:\n",
    "\n",
    "###Numerical Types:\n",
    "- bool (Boolean)\n",
    "- int (Integer/Long)\n",
    "- float\n",
    "- complex\n",
    "\n",
    "**Notice:** In Python 3 integer represents integer and long. Because there is no more long data type, you will not get `L` at the end of long integers."
   ]
  },
  {
   "cell_type": "code",
   "execution_count": null,
   "metadata": {},
   "outputs": [],
   "source": [
    "a = 4\n",
    "b = 1.5\n",
    "c = 121212121212121212121212121212121212121212121212121212121212121212121212121212121212121212121212121212121212\n",
    "d = 1j\n",
    "e = 1/3\n",
    "f = True"
   ]
  },
  {
   "cell_type": "code",
   "execution_count": null,
   "metadata": {},
   "outputs": [],
   "source": [
    "a+b"
   ]
  },
  {
   "cell_type": "code",
   "execution_count": null,
   "metadata": {},
   "outputs": [],
   "source": [
    "a*c"
   ]
  },
  {
   "cell_type": "code",
   "execution_count": null,
   "metadata": {},
   "outputs": [],
   "source": [
    "(b+d)*a"
   ]
  },
  {
   "cell_type": "code",
   "execution_count": null,
   "metadata": {},
   "outputs": [],
   "source": [
    "a+f"
   ]
  },
  {
   "cell_type": "code",
   "execution_count": null,
   "metadata": {},
   "outputs": [],
   "source": [
    "type(1.5)"
   ]
  },
  {
   "cell_type": "markdown",
   "metadata": {},
   "source": [
    "###Other Value Types:\n",
    "- str (String)\n",
    "- list (Ordered Array)\n",
    "- tuple (Ordered Immutable Array)\n",
    "- dict (Unordered list of keys and values)"
   ]
  },
  {
   "cell_type": "code",
   "execution_count": null,
   "metadata": {},
   "outputs": [],
   "source": [
    "my_name = \"Roshan\"\n",
    "print(my_name)"
   ]
  },
  {
   "cell_type": "code",
   "execution_count": null,
   "metadata": {},
   "outputs": [],
   "source": [
    "my_list = [1,2,3,4,5]\n",
    "my_list"
   ]
  },
  {
   "cell_type": "code",
   "execution_count": null,
   "metadata": {},
   "outputs": [],
   "source": [
    "my_list + [6]"
   ]
  },
  {
   "cell_type": "code",
   "execution_count": null,
   "metadata": {},
   "outputs": [],
   "source": [
    "my_list"
   ]
  },
  {
   "cell_type": "code",
   "execution_count": null,
   "metadata": {},
   "outputs": [],
   "source": [
    "my_list += [6,7,8]\n",
    "my_list"
   ]
  },
  {
   "cell_type": "code",
   "execution_count": null,
   "metadata": {},
   "outputs": [],
   "source": [
    "my_list.append(9)\n",
    "my_list"
   ]
  },
  {
   "cell_type": "code",
   "execution_count": null,
   "metadata": {},
   "outputs": [],
   "source": [
    "my_tuple = (1,2,3)\n",
    "my_tuple"
   ]
  },
  {
   "cell_type": "code",
   "execution_count": null,
   "metadata": {},
   "outputs": [],
   "source": [
    "my_tuple + (4,5,6)"
   ]
  },
  {
   "cell_type": "code",
   "execution_count": null,
   "metadata": {},
   "outputs": [],
   "source": [
    "my_dict = {\"name\":\"Roshan\", \"credit\":100}\n",
    "my_dict"
   ]
  },
  {
   "cell_type": "code",
   "execution_count": null,
   "metadata": {},
   "outputs": [],
   "source": [
    "my_dict[\"name\"]"
   ]
  },
  {
   "cell_type": "code",
   "execution_count": null,
   "metadata": {},
   "outputs": [],
   "source": [
    "my_dict[\"level\"] = 4\n",
    "my_dict"
   ]
  },
  {
   "cell_type": "code",
   "execution_count": null,
   "metadata": {},
   "outputs": [],
   "source": [
    "my_dict.values()"
   ]
  },
  {
   "cell_type": "code",
   "execution_count": null,
   "metadata": {},
   "outputs": [],
   "source": [
    "my_dict.keys()"
   ]
  },
  {
   "cell_type": "markdown",
   "metadata": {},
   "source": [
    "###Selecting / Slicing\n",
    "\n",
    "Use `len` function to measure the length of a list."
   ]
  },
  {
   "cell_type": "code",
   "execution_count": null,
   "metadata": {},
   "outputs": [],
   "source": [
    "len(my_list)"
   ]
  },
  {
   "cell_type": "markdown",
   "metadata": {},
   "source": [
    "To access a single value in a list use this syntax:\n",
    "```python\n",
    "list_name[index]\n",
    "```"
   ]
  },
  {
   "cell_type": "code",
   "execution_count": null,
   "metadata": {},
   "outputs": [],
   "source": [
    "my_list[0]"
   ]
  },
  {
   "cell_type": "markdown",
   "metadata": {},
   "source": [
    "To select multiple value from a list use this syntax:\n",
    "\n",
    "```python\n",
    "index[start:end:step]\n",
    "```"
   ]
  },
  {
   "cell_type": "code",
   "execution_count": null,
   "metadata": {},
   "outputs": [],
   "source": [
    "my_list[1:2]"
   ]
  },
  {
   "cell_type": "code",
   "execution_count": null,
   "metadata": {},
   "outputs": [],
   "source": [
    "my_list[:3]"
   ]
  },
  {
   "cell_type": "code",
   "execution_count": null,
   "metadata": {},
   "outputs": [],
   "source": [
    "my_list[3:]"
   ]
  },
  {
   "cell_type": "markdown",
   "metadata": {},
   "source": [
    "**Notice:** negative index selected from the end of the list"
   ]
  },
  {
   "cell_type": "code",
   "execution_count": null,
   "metadata": {},
   "outputs": [],
   "source": [
    "my_list[-1]"
   ]
  },
  {
   "cell_type": "code",
   "execution_count": null,
   "metadata": {},
   "outputs": [],
   "source": [
    "my_list[-2]"
   ]
  },
  {
   "cell_type": "markdown",
   "metadata": {},
   "source": [
    "You can use negative indexing in selecting multiple values."
   ]
  },
  {
   "cell_type": "code",
   "execution_count": null,
   "metadata": {},
   "outputs": [],
   "source": [
    "my_list[-2:]"
   ]
  },
  {
   "cell_type": "code",
   "execution_count": null,
   "metadata": {},
   "outputs": [],
   "source": [
    "my_list[:-2]"
   ]
  },
  {
   "cell_type": "code",
   "execution_count": null,
   "metadata": {},
   "outputs": [],
   "source": [
    "my_list[3:-1]"
   ]
  },
  {
   "cell_type": "markdown",
   "metadata": {},
   "source": [
    "The third location in the index is the `step`. If the `step` is negative the the list is returned in descending order."
   ]
  },
  {
   "cell_type": "code",
   "execution_count": null,
   "metadata": {},
   "outputs": [],
   "source": [
    "my_list[::2]"
   ]
  },
  {
   "cell_type": "code",
   "execution_count": null,
   "metadata": {},
   "outputs": [],
   "source": [
    "my_list[3::2]"
   ]
  },
  {
   "cell_type": "code",
   "execution_count": null,
   "metadata": {},
   "outputs": [],
   "source": [
    "my_list[::-1]"
   ]
  },
  {
   "cell_type": "markdown",
   "metadata": {},
   "source": [
    "###Working with Strings\n",
    "\n",
    "You can select from a string like a list suing this syntax:\n",
    "\n",
    "```python\n",
    "my_string[star:end:step]\n",
    "```"
   ]
  },
  {
   "cell_type": "code",
   "execution_count": null,
   "metadata": {},
   "outputs": [],
   "source": [
    "my_name"
   ]
  },
  {
   "cell_type": "code",
   "execution_count": null,
   "metadata": {},
   "outputs": [],
   "source": [
    "my_name[0]"
   ]
  },
  {
   "cell_type": "markdown",
   "metadata": {},
   "source": [
    "**Notice:** You can also use negative indexing."
   ]
  },
  {
   "cell_type": "code",
   "execution_count": null,
   "metadata": {},
   "outputs": [],
   "source": [
    "my_name[:2]"
   ]
  },
  {
   "cell_type": "markdown",
   "metadata": {},
   "source": [
    "##Unicode\n",
    "\n",
    "**Notice:** You can use unicode inside your string variables. Unlike Python 2, no need to use `u\"\"` to use unicode."
   ]
  },
  {
   "cell_type": "code",
   "execution_count": null,
   "metadata": {},
   "outputs": [],
   "source": [
    "# Sorted by most spoken languages in order\n",
    "divide_by_zero = {\"zho\":\"你不能除以零\",\n",
    "                  \"eng\":\"You cannot divide by zero\",\n",
    "                  \"esp\":\"No se puede dividir por cero\",\n",
    "                  \"hin\":\"आप शून्य से विभाजित नहीं किया जा सकता \\u2248\",\n",
    "                  \"arb\":\"لا يمكن القسمة على صفر\"}\n",
    "\n",
    "print(divide_by_zero[\"hin\"])\n",
    "type(divide_by_zero[\"hin\"])"
   ]
  },
  {
   "cell_type": "markdown",
   "metadata": {},
   "source": [
    "##String Formatting\n",
    "\n",
    "You can use this syntax to format a string:\n",
    "\n",
    "```python\n",
    "some_variable = 50\n",
    "x = \"Value: %s\" % some_variable\n",
    "print(x) # Value: 50\n",
    "```"
   ]
  },
  {
   "cell_type": "code",
   "execution_count": null,
   "metadata": {},
   "outputs": [],
   "source": [
    "first_name = \"Roshan\"\n",
    "last_name = \"Rush\"\n",
    "formatted_name = \"%s, %s.\" % (last_name, first_name[0])\n",
    "print(formatted_name)"
   ]
  },
  {
   "cell_type": "markdown",
   "metadata": {},
   "source": [
    "Other formatters could be used to format numbers:"
   ]
  },
  {
   "cell_type": "code",
   "execution_count": null,
   "metadata": {},
   "outputs": [],
   "source": [
    "print(\"π ≈ %.2f\" % 3.14159)"
   ]
  },
  {
   "cell_type": "markdown",
   "metadata": {},
   "source": [
    "To find unicode symbols:\n",
    "\n",
    "http://www.fileformat.info/info/unicode/char/search.htm"
   ]
  },
  {
   "cell_type": "code",
   "execution_count": null,
   "metadata": {},
   "outputs": [],
   "source": [
    "homeworks = 15.75\n",
    "midterm = 22\n",
    "final = 51\n",
    "total = homeworks + midterm + final\n",
    "\n",
    "print(\"Homeworks: %.2f\\nMid-term: %.2f\\nFinal: %.2f\\nTotal: %.2f/100\" % (homeworks, midterm, final, total))"
   ]
  },
  {
   "cell_type": "markdown",
   "metadata": {},
   "source": [
    "###Using `format(*args, **kwargs)` function"
   ]
  },
  {
   "cell_type": "code",
   "execution_count": null,
   "metadata": {},
   "outputs": [],
   "source": [
    "url = \"http://{language}.wikipedia.org/\"\n",
    "url = url.format(language=\"en\")\n",
    "url"
   ]
  },
  {
   "cell_type": "markdown",
   "metadata": {},
   "source": [
    "##Mathematics"
   ]
  },
  {
   "cell_type": "code",
   "execution_count": null,
   "metadata": {},
   "outputs": [],
   "source": [
    "1+1"
   ]
  },
  {
   "cell_type": "code",
   "execution_count": null,
   "metadata": {},
   "outputs": [],
   "source": [
    "4-5"
   ]
  },
  {
   "cell_type": "markdown",
   "metadata": {},
   "source": [
    "**Notice:** The default behavior of division in Python 3 is float division. To use integer division like Python 2, use `//`"
   ]
  },
  {
   "cell_type": "code",
   "execution_count": null,
   "metadata": {},
   "outputs": [],
   "source": [
    "14/5"
   ]
  },
  {
   "cell_type": "code",
   "execution_count": null,
   "metadata": {},
   "outputs": [],
   "source": [
    "14//5"
   ]
  },
  {
   "cell_type": "code",
   "execution_count": null,
   "metadata": {},
   "outputs": [],
   "source": [
    "2*5"
   ]
  },
  {
   "cell_type": "markdown",
   "metadata": {},
   "source": [
    "To raise a number to any power use down asterisk `**`. To represent $a^{n}$:\n",
    "\n",
    "```python\n",
    "a**n\n",
    "```"
   ]
  },
  {
   "cell_type": "code",
   "execution_count": null,
   "metadata": {},
   "outputs": [],
   "source": [
    "2**3"
   ]
  },
  {
   "cell_type": "markdown",
   "metadata": {},
   "source": [
    "To calculate the remainder (modulo operator) use `%`. To represent $a \\mod b = r$:\n",
    "\n",
    "```python\n",
    "a % b # Returns r\n",
    "```"
   ]
  },
  {
   "cell_type": "code",
   "execution_count": null,
   "metadata": {},
   "outputs": [],
   "source": [
    "10 % 3"
   ]
  },
  {
   "cell_type": "markdown",
   "metadata": {},
   "source": [
    "You can "
   ]
  },
  {
   "cell_type": "markdown",
   "metadata": {},
   "source": [
    "You can use the `math` library to access a varaity of tools for algebra and geometry. To import a library, you can use one of these syntaxes:\n",
    "\n",
    "```python\n",
    "import library_name\n",
    "import library_name as alias\n",
    "from module_name import some_class\n",
    "```"
   ]
  },
  {
   "cell_type": "code",
   "execution_count": null,
   "metadata": {
    "collapsed": true
   },
   "outputs": [],
   "source": [
    "import math"
   ]
  },
  {
   "cell_type": "code",
   "execution_count": null,
   "metadata": {},
   "outputs": [],
   "source": [
    "n=52\n",
    "k=1\n",
    "math.factorial(n) / (math.factorial(k) * math.factorial(n-k))"
   ]
  },
  {
   "cell_type": "markdown",
   "metadata": {},
   "source": [
    "##Loops"
   ]
  },
  {
   "cell_type": "code",
   "execution_count": null,
   "metadata": {},
   "outputs": [],
   "source": [
    "for counter in [1,2,3,4]:\n",
    "    print(counter)"
   ]
  },
  {
   "cell_type": "markdown",
   "metadata": {},
   "source": [
    "###range\n",
    "\n",
    "In Python 3 `range` is a data type that generates a list of numbers.\n",
    "\n",
    "```python\n",
    "range(stop)\n",
    "range(start,stop[ ,step])\n",
    "```\n",
    "\n",
    "**Notice:** In Python 2 `range` is a function that returns a list. In Python 3, `range` returns an iterable of type `range`. If you need to get a list you can use the `list()` function:\n",
    "\n",
    "```python\n",
    "list(range(start,stop[, step]))\n",
    "```"
   ]
  },
  {
   "cell_type": "code",
   "execution_count": null,
   "metadata": {},
   "outputs": [],
   "source": [
    "for counter in range(5):\n",
    "    print(counter)"
   ]
  },
  {
   "cell_type": "markdown",
   "metadata": {},
   "source": [
    "**Notice:** The list doesn't reach the `stop` value and stops one `step` before. The reason behind that is to make this syntax possible:"
   ]
  },
  {
   "cell_type": "code",
   "execution_count": null,
   "metadata": {},
   "outputs": [],
   "source": [
    "list(range(1,10)) == list(range(1,5)) + list(range(5,10))"
   ]
  },
  {
   "cell_type": "markdown",
   "metadata": {},
   "source": [
    "**Notice:** In Python 3 use use `==` to check if two values are equal. To check if two values are not equal use `!=` and don't use `<>` from Python 2 because it is not supported any more in Python 3."
   ]
  },
  {
   "cell_type": "code",
   "execution_count": null,
   "metadata": {},
   "outputs": [],
   "source": [
    "for counter in range(1,5):\n",
    "    print(counter)"
   ]
  },
  {
   "cell_type": "code",
   "execution_count": null,
   "metadata": {},
   "outputs": [],
   "source": [
    "for counter in range(2,10,2):\n",
    "    print(counter)"
   ]
  },
  {
   "cell_type": "markdown",
   "metadata": {},
   "source": [
    "###While Loop"
   ]
  },
  {
   "cell_type": "code",
   "execution_count": null,
   "metadata": {},
   "outputs": [],
   "source": [
    "counter =1\n",
    "while counter < 5:\n",
    "    print(counter)\n",
    "    counter += 1"
   ]
  },
  {
   "cell_type": "markdown",
   "metadata": {},
   "source": [
    "##If .. Else"
   ]
  },
  {
   "cell_type": "code",
   "execution_count": null,
   "metadata": {},
   "outputs": [],
   "source": [
    "if math.pi == 3.2:\n",
    "    print(\"Edward J. Goodwin was right!\")\n",
    "else:\n",
    "    print(\"π is irrational\")"
   ]
  },
  {
   "cell_type": "code",
   "execution_count": null,
   "metadata": {},
   "outputs": [],
   "source": [
    "if math.sqrt(2) == (10/7):\n",
    "    print(\"Edward J. Goodwin was right!\")\n",
    "elif math.sqrt(2) != (10/7):\n",
    "    print(\"Square root of 2 is irrational\")"
   ]
  },
  {
   "cell_type": "markdown",
   "metadata": {},
   "source": [
    "###If you like Math:\n",
    "Fun story about pi where it was *almost* set by law to be equal to 3.2!\n",
    "\n",
    "If you don't what is the \"pi bill\" you can read about it here:\n",
    "http://en.wikipedia.org/wiki/Indiana_Pi_Bill\n",
    "\n",
    "Or watch Numberphile video about it:\n",
    "https://www.youtube.com/watch?v=bFNjA9LOPsg"
   ]
  },
  {
   "cell_type": "code",
   "execution_count": null,
   "metadata": {},
   "outputs": [],
   "source": [
    "probability = 0.3\n",
    "\n",
    "if probability >= 0.75:\n",
    "    print(\"Sure thing\")\n",
    "elif probability >= 0.5:\n",
    "    print(\"Maybe\")\n",
    "elif probability >= 0.25:\n",
    "    print(\"Unusual\")\n",
    "else:\n",
    "    print(\"No way\")"
   ]
  },
  {
   "cell_type": "markdown",
   "metadata": {},
   "source": [
    "##Functions\n",
    "\n",
    "Functions are defined in Python using `def` keyword."
   ]
  },
  {
   "cell_type": "code",
   "execution_count": null,
   "metadata": {
    "collapsed": true
   },
   "outputs": [],
   "source": [
    "def get_circumference(r):\n",
    "    return math.pi * r * 2"
   ]
  },
  {
   "cell_type": "code",
   "execution_count": null,
   "metadata": {},
   "outputs": [],
   "source": [
    "get_circumference(5)"
   ]
  },
  {
   "cell_type": "code",
   "execution_count": null,
   "metadata": {},
   "outputs": [],
   "source": [
    "def binomilal_coef(n,k):\n",
    "    \"\"\"\n",
    "    This function returns the binominal coef\n",
    "    \n",
    "    Parameters:\n",
    "    ===========\n",
    "    n, k int\n",
    "    \n",
    "    return n!/(k!*(n-k)!)\n",
    "    \"\"\"\n",
    "    value = math.factorial(n)/(math.factorial(k)*math.factorial(n-k))\n",
    "    return value\n",
    "\n",
    "\n",
    "binomilal_coef(52,2)"
   ]
  },
  {
   "cell_type": "markdown",
   "metadata": {},
   "source": [
    "**Notice:** Use can use SHIFT+TAB to show the docstring of a function."
   ]
  },
  {
   "cell_type": "markdown",
   "metadata": {},
   "source": [
    "###If You Like Math\n",
    "\n",
    "This was the binomial function which tells you how many ways are there to select k number of samples from a sample space with n items if order didn't matter and chosen samples could not be repeated (chosen again).\n",
    "\n",
    "As an example, How many ways to select 2 card from a deck of 52 cards if order of selection didn't matter and you where not allowed to choose the same card twice?\n",
    "\n",
    "$${n \\choose k} = {n! \\over {k!(n-k)!}}$$\n",
    "\n",
    "$${52 \\choose 2} = {52! \\over {2!(52-2)!}} = {52! \\over {2!(50)!}} =  1326$$\n",
    "\n",
    "\n",
    "#Quick Quiz:\n",
    "\n",
    "How many ways to select 2 cards from a deck of 52 cards if order didn't matter and you could choose the same card twice?\n",
    "\n",
    "**hints:**\n",
    "\n",
    "- Read about k-combination with repetitions:\n",
    "http://en.wikipedia.org/wiki/Combination#Number_of_combinations_with_repetition\n",
    "\n",
    "- The equation\n",
    "$$\\left(\\!\\!\\!\\binom{n}{k}\\!\\!\\!\\right) = {{n+k-1} \\choose k}$$\n",
    "\n",
    "- To make your life easier:\n",
    "\n",
    "$$\\left(\\!\\!\\!\\binom{52}{2}\\!\\!\\!\\right) = {{52+2-1} \\choose 2} = {{53} \\choose 2} = \\frac{53!}{2!(51)!}$$\n",
    "\n",
    "- **If you got 1326 then you got it <span style=\"color:red\">WRONG</span>.**\n",
    "\n",
    "#Last quiz was solved by:\n",
    "[pacrii](https://www.youtube.com/user/pacrii)"
   ]
  }
 ],
 "metadata": {
  "kernelspec": {
   "display_name": "Python 3",
   "language": "python",
   "name": "python3"
  },
  "language_info": {
   "codemirror_mode": {
    "name": "ipython",
    "version": 3
   },
   "file_extension": ".py",
   "mimetype": "text/x-python",
   "name": "python",
   "nbconvert_exporter": "python",
   "pygments_lexer": "ipython3",
   "version": "3.6.1"
  }
 },
 "nbformat": 4,
 "nbformat_minor": 1
}
