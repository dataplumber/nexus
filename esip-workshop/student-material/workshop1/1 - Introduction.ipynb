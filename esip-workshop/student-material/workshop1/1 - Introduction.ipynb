{
 "cells": [
  {
   "cell_type": "markdown",
   "metadata": {},
   "source": [
    "# Introduction\n",
    "\n",
    "In this workshop you will learn how to interact with the NEXUS system and its `nexuscli` python client module. \n",
    "\n",
    "## Jupyter\n",
    "\n",
    "If you are unfamiliar with Jupyter Notebooks, it is recommended that you read through some of the basic commands by following this link:  \n",
    "\n",
    "[Jupyter Notebook Basics](http://nbviewer.jupyter.org/github/jupyter/notebook/blob/master/docs/source/examples/Notebook/Notebook%20Basics.ipynb)  \n",
    "\n",
    "Additionally, the [2 - Running Code](2 - Running Code.ipynb) notebook provides a short walkthrough on how to use Jupyter Notebook.\n",
    "\n",
    "## Python 3\n",
    "\n",
    "All of the notebooks in this workshop run using the Python 3 kernel. The expectation is that you have basic python programming skills or are able to understand simple python code.\n",
    "\n",
    "If needed, an introduction to Python 3 (Courtesy of [Twisted Hardware](https://github.com/TwistedHardware/mltutorial/blob/b90fb1983221a2b53666d92a908dac015cf230b2/notebooks/jupyter/3.%20Python%20Basics.ipynb)) is provided in the [3 - Python Basics](3 - Python Basics.ipynb) notebook.\n",
    "\n",
    "## nexuscli Python Client\n",
    "\n",
    "This workshop uses the `nexuscli` python client module. The source code for this module can be found on [GitHub](https://github.com/dataplumber/nexus/tree/master/client). Documentation is available [as html](https://htmlpreview.github.io/?https://raw.githubusercontent.com/dataplumber/nexus/a033052f3113c377b95361e3ad05ce07f5ecd41d/client/docs/nexuscli/nexuscli.m.html) and can also be viewed directly in Jupyter notebook by importing the module, running the cell, typing `nexuscli`, and then pressing `shift + tab`.\n",
    "\n",
    "## Dataset Descriptions\n",
    "\n",
    "There are two datasets available for analysis during this workshop:\n",
    "\n",
    "1. AVHRR_OI-NCEI-L4-GLOB-v2.0\n",
    "  - Timeframe available: 2005 - 2016\n",
    "  - [Dataset Description](http://podaac.jpl.nasa.gov/dataset/AVHRR_OI-NCEI-L4-GLOB-v2.0)\n",
    "2. TRMM_3B42_V7\n",
    "  - Timeframe available: 2005 - 2015\n",
    "  - [Dataset Description](https://disc.gsfc.nasa.gov/datasets/TRMM_3B42_V7/summary)\n"
   ]
  }
 ],
 "metadata": {
  "kernelspec": {
   "display_name": "Python 3",
   "language": "python",
   "name": "python3"
  },
  "language_info": {
   "codemirror_mode": {
    "name": "ipython",
    "version": 3
   },
   "file_extension": ".py",
   "mimetype": "text/x-python",
   "name": "python",
   "nbconvert_exporter": "python",
   "pygments_lexer": "ipython3",
   "version": "3.6.1"
  }
 },
 "nbformat": 4,
 "nbformat_minor": 2
}
